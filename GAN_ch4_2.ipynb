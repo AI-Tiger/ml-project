{
  "nbformat": 4,
  "nbformat_minor": 0,
  "metadata": {
    "colab": {
      "name": "GAN ch4-2.ipynb",
      "provenance": [],
      "collapsed_sections": [],
      "authorship_tag": "ABX9TyOEQMmXQx0mVvN8P3Lc9tSe",
      "include_colab_link": true
    },
    "kernelspec": {
      "name": "python3",
      "display_name": "Python 3"
    },
    "language_info": {
      "name": "python"
    }
  },
  "cells": [
    {
      "cell_type": "markdown",
      "metadata": {
        "id": "view-in-github",
        "colab_type": "text"
      },
      "source": [
        "<a href=\"https://colab.research.google.com/github/AI-Tiger/ml-project/blob/main/GAN_ch4_2.ipynb\" target=\"_parent\"><img src=\"https://colab.research.google.com/assets/colab-badge.svg\" alt=\"Open In Colab\"/></a>"
      ]
    },
    {
      "cell_type": "code",
      "metadata": {
        "id": "niLz4xAnCYgW"
      },
      "source": [
        "import numpy as np\n",
        "from keras.models import load_model\n",
        "from PIL import Image"
      ],
      "execution_count": null,
      "outputs": []
    },
    {
      "cell_type": "code",
      "metadata": {
        "colab": {
          "base_uri": "https://localhost:8080/"
        },
        "id": "0lL61-ytC-_d",
        "outputId": "a12e93a0-e010-415d-870c-8d99ce6aec5f"
      },
      "source": [
        "from google.colab import drive\n",
        "drive.mount('/content/drive')"
      ],
      "execution_count": null,
      "outputs": [
        {
          "output_type": "stream",
          "text": [
            "Mounted at /content/drive\n"
          ],
          "name": "stdout"
        }
      ]
    },
    {
      "cell_type": "code",
      "metadata": {
        "id": "DJ4OXl7uDJbh"
      },
      "source": [
        "!cp '/content/drive/My Drive/gan_model.h5' ./"
      ],
      "execution_count": null,
      "outputs": []
    },
    {
      "cell_type": "code",
      "metadata": {
        "colab": {
          "base_uri": "https://localhost:8080/"
        },
        "id": "EY8rSMhCDbcZ",
        "outputId": "3ef33d3e-702c-4d49-f0bf-c90713221891"
      },
      "source": [
        "generator_model = load_model('gan_model.h5')\n",
        "generator_model.summary()"
      ],
      "execution_count": null,
      "outputs": [
        {
          "output_type": "stream",
          "text": [
            "WARNING:tensorflow:No training configuration found in the save file, so the model was *not* compiled. Compile it manually.\n",
            "Model: \"sequential_2\"\n",
            "_________________________________________________________________\n",
            "Layer (type)                 Output Shape              Param #   \n",
            "=================================================================\n",
            "dense_3 (Dense)              (None, 1024)              103424    \n",
            "_________________________________________________________________\n",
            "activation_5 (Activation)    (None, 1024)              0         \n",
            "_________________________________________________________________\n",
            "dense_4 (Dense)              (None, 32768)             33587200  \n",
            "_________________________________________________________________\n",
            "batch_normalization_1 (Batch (None, 32768)             131072    \n",
            "_________________________________________________________________\n",
            "activation_6 (Activation)    (None, 32768)             0         \n",
            "_________________________________________________________________\n",
            "reshape_1 (Reshape)          (None, 16, 16, 128)       0         \n",
            "_________________________________________________________________\n",
            "up_sampling2d_1 (UpSampling2 (None, 32, 32, 128)       0         \n",
            "_________________________________________________________________\n",
            "conv2d_3 (Conv2D)            (None, 32, 32, 64)        204864    \n",
            "_________________________________________________________________\n",
            "activation_7 (Activation)    (None, 32, 32, 64)        0         \n",
            "_________________________________________________________________\n",
            "up_sampling2d_2 (UpSampling2 (None, 64, 64, 64)        0         \n",
            "_________________________________________________________________\n",
            "conv2d_4 (Conv2D)            (None, 64, 64, 3)         4803      \n",
            "_________________________________________________________________\n",
            "activation_8 (Activation)    (None, 64, 64, 3)         0         \n",
            "=================================================================\n",
            "Total params: 34,031,363\n",
            "Trainable params: 33,965,827\n",
            "Non-trainable params: 65,536\n",
            "_________________________________________________________________\n"
          ],
          "name": "stdout"
        }
      ]
    },
    {
      "cell_type": "code",
      "metadata": {
        "id": "jhGhh8rGDmQr"
      },
      "source": [
        "image_filename = 'image.png'"
      ],
      "execution_count": null,
      "outputs": []
    },
    {
      "cell_type": "code",
      "metadata": {
        "colab": {
          "base_uri": "https://localhost:8080/"
        },
        "id": "vAJya84YDv5L",
        "outputId": "504e8ed3-c32c-4b1c-ee9f-673ba93b6668"
      },
      "source": [
        "noise = np.random.uniform(size=[1, 100], low=-1.0, high=1.0)\n",
        "noise"
      ],
      "execution_count": null,
      "outputs": [
        {
          "output_type": "execute_result",
          "data": {
            "text/plain": [
              "array([[-0.61704252,  0.59939605,  0.39904568, -0.74259227,  0.68912159,\n",
              "         0.92231538, -0.23060957,  0.25276531,  0.62195959, -0.31788265,\n",
              "        -0.39140027,  0.66976842, -0.78047827,  0.16018258, -0.25294593,\n",
              "        -0.06980869, -0.63316113, -0.6671053 , -0.76714853,  0.25297407,\n",
              "         0.72656736, -0.1723372 , -0.18343501,  0.24619569,  0.07355882,\n",
              "        -0.90548505,  0.12183575,  0.5426181 ,  0.44107351,  0.22103657,\n",
              "         0.07297392,  0.41341049,  0.41296749, -0.90825861, -0.85607359,\n",
              "         0.49521631,  0.51259775,  0.71236731,  0.370773  ,  0.60923255,\n",
              "        -0.87385308,  0.50828101,  0.22894211, -0.64873517,  0.42175185,\n",
              "        -0.71703607,  0.93432298,  0.39813884, -0.28391045, -0.84972942,\n",
              "         0.76658367,  0.98889426,  0.90394088, -0.88503417, -0.90138685,\n",
              "        -0.06414826, -0.43220965, -0.22487669, -0.15751904,  0.03539685,\n",
              "         0.75350864, -0.71501335,  0.89615289, -0.97954543,  0.01494818,\n",
              "         0.16346163, -0.36563853, -0.16696504, -0.65205296, -0.41804876,\n",
              "         0.69977433, -0.44851667, -0.07761437,  0.15103856,  0.91144825,\n",
              "        -0.38352679, -0.1601091 ,  0.28379691, -0.69971271, -0.63973529,\n",
              "         0.01904759, -0.1615857 , -0.15346333,  0.44187612, -0.7987235 ,\n",
              "        -0.78968986, -0.20187903, -0.17360263, -0.0631533 , -0.28903979,\n",
              "        -0.65772789,  0.93555534, -0.14354421, -0.74183682,  0.76338675,\n",
              "         0.56564029, -0.71790229,  0.65266816, -0.30995598, -0.99358777]])"
            ]
          },
          "metadata": {
            "tags": []
          },
          "execution_count": 7
        }
      ]
    },
    {
      "cell_type": "code",
      "metadata": {
        "colab": {
          "base_uri": "https://localhost:8080/",
          "height": 72
        },
        "id": "E3pkGkrcFX4F",
        "outputId": "ba88aaaa-2553-488f-c2db-dc1d229fd276"
      },
      "source": [
        "import matplotlib.pyplot as plt\n",
        "pil_img = Image.fromarray((noise + 1)*127.5)\n",
        "plt.imshow(pil_img)"
      ],
      "execution_count": null,
      "outputs": [
        {
          "output_type": "execute_result",
          "data": {
            "text/plain": [
              "<matplotlib.image.AxesImage at 0x7f7cc48f85d0>"
            ]
          },
          "metadata": {
            "tags": []
          },
          "execution_count": 8
        },
        {
          "output_type": "display_data",
          "data": {
            "image/png": "[encoded data removed]",
            "text/plain": [
              "<Figure size 432x288 with 1 Axes>"
            ]
          },
          "metadata": {
            "tags": [],
            "needs_background": "light"
          }
        }
      ]
    },
    {
      "cell_type": "code",
      "metadata": {
        "id": "xWtX7ITRF02r"
      },
      "source": [
        "generated_images = generator_model.predict(noise)\n",
        "\n",
        "img = generated_images[0] * 127.5 + 127.5\n",
        "pil_img = Image.fromarray(np.uint8(img))\n",
        "pil_img.save(image_filename)"
      ],
      "execution_count": null,
      "outputs": []
    },
    {
      "cell_type": "code",
      "metadata": {
        "colab": {
          "base_uri": "https://localhost:8080/",
          "height": 81
        },
        "id": "vCR3UOZGGe5d",
        "outputId": "54436e6a-bc33-4257-8fc0-5a5405cfdac2"
      },
      "source": [
        "from IPython.display import Image as IPImage\n",
        "from IPython.display import display_png\n",
        "display_png(IPImage(image_filename))"
      ],
      "execution_count": null,
      "outputs": [
        {
          "output_type": "display_data",
          "data": {
            "image/png": "[encoded data removed]"
          },
          "metadata": {
            "tags": []
          }
        }
      ]
    },
    {
      "cell_type": "code",
      "metadata": {
        "colab": {
          "base_uri": "https://localhost:8080/",
          "height": 17
        },
        "id": "C5sAFaE4G3ds",
        "outputId": "38a20816-9909-4c6e-d396-2c15f36dd859"
      },
      "source": [
        "from google.colab import files\n",
        "files.download(image_filename)"
      ],
      "execution_count": null,
      "outputs": [
        {
          "output_type": "display_data",
          "data": {
            "application/javascript": [
              "\n",
              "    async function download(id, filename, size) {\n",
              "      if (!google.colab.kernel.accessAllowed) {\n",
              "        return;\n",
              "      }\n",
              "      const div = document.createElement('div');\n",
              "      const label = document.createElement('label');\n",
              "      label.textContent = `Downloading \"${filename}\": `;\n",
              "      div.appendChild(label);\n",
              "      const progress = document.createElement('progress');\n",
              "      progress.max = size;\n",
              "      div.appendChild(progress);\n",
              "      document.body.appendChild(div);\n",
              "\n",
              "      const buffers = [];\n",
              "      let downloaded = 0;\n",
              "\n",
              "      const channel = await google.colab.kernel.comms.open(id);\n",
              "      // Send a message to notify the kernel that we're ready.\n",
              "      channel.send({})\n",
              "\n",
              "      for await (const message of channel.messages) {\n",
              "        // Send a message to notify the kernel that we're ready.\n",
              "        channel.send({})\n",
              "        if (message.buffers) {\n",
              "          for (const buffer of message.buffers) {\n",
              "            buffers.push(buffer);\n",
              "            downloaded += buffer.byteLength;\n",
              "            progress.value = downloaded;\n",
              "          }\n",
              "        }\n",
              "      }\n",
              "      const blob = new Blob(buffers, {type: 'application/binary'});\n",
              "      const a = document.createElement('a');\n",
              "      a.href = window.URL.createObjectURL(blob);\n",
              "      a.download = filename;\n",
              "      div.appendChild(a);\n",
              "      a.click();\n",
              "      div.remove();\n",
              "    }\n",
              "  "
            ],
            "text/plain": [
              "<IPython.core.display.Javascript object>"
            ]
          },
          "metadata": {
            "tags": []
          }
        },
        {
          "output_type": "display_data",
          "data": {
            "application/javascript": [
              "download(\"download_ef9404cd-5eef-4723-bfb9-29e5976eaa8e\", \"image.png\", 8562)"
            ],
            "text/plain": [
              "<IPython.core.display.Javascript object>"
            ]
          },
          "metadata": {
            "tags": []
          }
        }
      ]
    },
    {
      "cell_type": "code",
      "metadata": {
        "id": "vJplfhzZHANO"
      },
      "source": [
        ""
      ],
      "execution_count": null,
      "outputs": []
    }
  ]
}