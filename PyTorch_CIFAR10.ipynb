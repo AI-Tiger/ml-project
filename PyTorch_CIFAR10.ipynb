{
  "nbformat": 4,
  "nbformat_minor": 0,
  "metadata": {
    "colab": {
      "name": "PyTorch_CIFAR10",
      "provenance": [],
      "authorship_tag": "ABX9TyO77OuMZ/VEGPQVAdMO4zX8",
      "include_colab_link": true
    },
    "kernelspec": {
      "name": "python3",
      "display_name": "Python 3"
    },
    "language_info": {
      "name": "python"
    },
    "accelerator": "GPU",
    "widgets": {
      "application/vnd.jupyter.widget-state+json": {
        "d0b8fe827a4f4da5ada0d0cc996442e1": {
          "model_module": "@jupyter-widgets/controls",
          "model_name": "HBoxModel",
          "state": {
            "_view_name": "HBoxView",
            "_dom_classes": [],
            "_model_name": "HBoxModel",
            "_view_module": "@jupyter-widgets/controls",
            "_model_module_version": "1.5.0",
            "_view_count": null,
            "_view_module_version": "1.5.0",
            "box_style": "",
            "layout": "IPY_MODEL_96bcaa238019462991c0ea3fbf8eda5e",
            "_model_module": "@jupyter-widgets/controls",
            "children": [
              "IPY_MODEL_aa47965e3c774f81834e6644c05c8693",
              "IPY_MODEL_312366057d5349da881a41af95a29dec"
            ]
          }
        },
        "96bcaa238019462991c0ea3fbf8eda5e": {
          "model_module": "@jupyter-widgets/base",
          "model_name": "LayoutModel",
          "state": {
            "_view_name": "LayoutView",
            "grid_template_rows": null,
            "right": null,
            "justify_content": null,
            "_view_module": "@jupyter-widgets/base",
            "overflow": null,
            "_model_module_version": "1.2.0",
            "_view_count": null,
            "flex_flow": null,
            "width": null,
            "min_width": null,
            "border": null,
            "align_items": null,
            "bottom": null,
            "_model_module": "@jupyter-widgets/base",
            "top": null,
            "grid_column": null,
            "overflow_y": null,
            "overflow_x": null,
            "grid_auto_flow": null,
            "grid_area": null,
            "grid_template_columns": null,
            "flex": null,
            "_model_name": "LayoutModel",
            "justify_items": null,
            "grid_row": null,
            "max_height": null,
            "align_content": null,
            "visibility": null,
            "align_self": null,
            "height": null,
            "min_height": null,
            "padding": null,
            "grid_auto_rows": null,
            "grid_gap": null,
            "max_width": null,
            "order": null,
            "_view_module_version": "1.2.0",
            "grid_template_areas": null,
            "object_position": null,
            "object_fit": null,
            "grid_auto_columns": null,
            "margin": null,
            "display": null,
            "left": null
          }
        },
        "aa47965e3c774f81834e6644c05c8693": {
          "model_module": "@jupyter-widgets/controls",
          "model_name": "FloatProgressModel",
          "state": {
            "_view_name": "ProgressView",
            "style": "IPY_MODEL_1ee6b8133d0c46c19a196953511b98da",
            "_dom_classes": [],
            "description": "",
            "_model_name": "FloatProgressModel",
            "bar_style": "success",
            "max": 170498071,
            "_view_module": "@jupyter-widgets/controls",
            "_model_module_version": "1.5.0",
            "value": 170498071,
            "_view_count": null,
            "_view_module_version": "1.5.0",
            "orientation": "horizontal",
            "min": 0,
            "description_tooltip": null,
            "_model_module": "@jupyter-widgets/controls",
            "layout": "IPY_MODEL_74412e78075d4a4e991f7d2d63089c86"
          }
        },
        "312366057d5349da881a41af95a29dec": {
          "model_module": "@jupyter-widgets/controls",
          "model_name": "HTMLModel",
          "state": {
            "_view_name": "HTMLView",
            "style": "IPY_MODEL_4ab14fae9dcd47b688b5c9ad96e1e3ab",
            "_dom_classes": [],
            "description": "",
            "_model_name": "HTMLModel",
            "placeholder": "​",
            "_view_module": "@jupyter-widgets/controls",
            "_model_module_version": "1.5.0",
            "value": " 170499072/? [01:41&lt;00:00, 1675240.34it/s]",
            "_view_count": null,
            "_view_module_version": "1.5.0",
            "description_tooltip": null,
            "_model_module": "@jupyter-widgets/controls",
            "layout": "IPY_MODEL_647c8899868e434cb8336e1ec84a3cf8"
          }
        },
        "1ee6b8133d0c46c19a196953511b98da": {
          "model_module": "@jupyter-widgets/controls",
          "model_name": "ProgressStyleModel",
          "state": {
            "_view_name": "StyleView",
            "_model_name": "ProgressStyleModel",
            "description_width": "initial",
            "_view_module": "@jupyter-widgets/base",
            "_model_module_version": "1.5.0",
            "_view_count": null,
            "_view_module_version": "1.2.0",
            "bar_color": null,
            "_model_module": "@jupyter-widgets/controls"
          }
        },
        "74412e78075d4a4e991f7d2d63089c86": {
          "model_module": "@jupyter-widgets/base",
          "model_name": "LayoutModel",
          "state": {
            "_view_name": "LayoutView",
            "grid_template_rows": null,
            "right": null,
            "justify_content": null,
            "_view_module": "@jupyter-widgets/base",
            "overflow": null,
            "_model_module_version": "1.2.0",
            "_view_count": null,
            "flex_flow": null,
            "width": null,
            "min_width": null,
            "border": null,
            "align_items": null,
            "bottom": null,
            "_model_module": "@jupyter-widgets/base",
            "top": null,
            "grid_column": null,
            "overflow_y": null,
            "overflow_x": null,
            "grid_auto_flow": null,
            "grid_area": null,
            "grid_template_columns": null,
            "flex": null,
            "_model_name": "LayoutModel",
            "justify_items": null,
            "grid_row": null,
            "max_height": null,
            "align_content": null,
            "visibility": null,
            "align_self": null,
            "height": null,
            "min_height": null,
            "padding": null,
            "grid_auto_rows": null,
            "grid_gap": null,
            "max_width": null,
            "order": null,
            "_view_module_version": "1.2.0",
            "grid_template_areas": null,
            "object_position": null,
            "object_fit": null,
            "grid_auto_columns": null,
            "margin": null,
            "display": null,
            "left": null
          }
        },
        "4ab14fae9dcd47b688b5c9ad96e1e3ab": {
          "model_module": "@jupyter-widgets/controls",
          "model_name": "DescriptionStyleModel",
          "state": {
            "_view_name": "StyleView",
            "_model_name": "DescriptionStyleModel",
            "description_width": "",
            "_view_module": "@jupyter-widgets/base",
            "_model_module_version": "1.5.0",
            "_view_count": null,
            "_view_module_version": "1.2.0",
            "_model_module": "@jupyter-widgets/controls"
          }
        },
        "647c8899868e434cb8336e1ec84a3cf8": {
          "model_module": "@jupyter-widgets/base",
          "model_name": "LayoutModel",
          "state": {
            "_view_name": "LayoutView",
            "grid_template_rows": null,
            "right": null,
            "justify_content": null,
            "_view_module": "@jupyter-widgets/base",
            "overflow": null,
            "_model_module_version": "1.2.0",
            "_view_count": null,
            "flex_flow": null,
            "width": null,
            "min_width": null,
            "border": null,
            "align_items": null,
            "bottom": null,
            "_model_module": "@jupyter-widgets/base",
            "top": null,
            "grid_column": null,
            "overflow_y": null,
            "overflow_x": null,
            "grid_auto_flow": null,
            "grid_area": null,
            "grid_template_columns": null,
            "flex": null,
            "_model_name": "LayoutModel",
            "justify_items": null,
            "grid_row": null,
            "max_height": null,
            "align_content": null,
            "visibility": null,
            "align_self": null,
            "height": null,
            "min_height": null,
            "padding": null,
            "grid_auto_rows": null,
            "grid_gap": null,
            "max_width": null,
            "order": null,
            "_view_module_version": "1.2.0",
            "grid_template_areas": null,
            "object_position": null,
            "object_fit": null,
            "grid_auto_columns": null,
            "margin": null,
            "display": null,
            "left": null
          }
        }
      }
    }
  },
  "cells": [
    {
      "cell_type": "markdown",
      "metadata": {
        "id": "view-in-github",
        "colab_type": "text"
      },
      "source": [
        "<a href=\"https://colab.research.google.com/github/AI-Tiger/ml-project/blob/main/PyTorch_CIFAR10.ipynb\" target=\"_parent\"><img src=\"https://colab.research.google.com/assets/colab-badge.svg\" alt=\"Open In Colab\"/></a>"
      ]
    },
    {
      "cell_type": "code",
      "metadata": {
        "colab": {
          "base_uri": "https://localhost:8080/"
        },
        "id": "LyLUoUMqmrVI",
        "outputId": "9ad56ad8-2368-4e0e-d7b2-de1c8a304c5e"
      },
      "source": [
        "!pip install torch torchvision"
      ],
      "execution_count": 2,
      "outputs": [
        {
          "output_type": "stream",
          "text": [
            "Requirement already satisfied: torch in /usr/local/lib/python3.7/dist-packages (1.8.1+cu101)\n",
            "Requirement already satisfied: torchvision in /usr/local/lib/python3.7/dist-packages (0.9.1+cu101)\n",
            "Requirement already satisfied: typing-extensions in /usr/local/lib/python3.7/dist-packages (from torch) (3.7.4.3)\n",
            "Requirement already satisfied: numpy in /usr/local/lib/python3.7/dist-packages (from torch) (1.19.5)\n",
            "Requirement already satisfied: pillow>=4.1.1 in /usr/local/lib/python3.7/dist-packages (from torchvision) (7.1.2)\n"
          ],
          "name": "stdout"
        }
      ]
    },
    {
      "cell_type": "code",
      "metadata": {
        "id": "8YcmCbzZm1Gw"
      },
      "source": [
        "import torch\n",
        "import torchvision\n",
        "import torchvision.transforms as transforms"
      ],
      "execution_count": 3,
      "outputs": []
    },
    {
      "cell_type": "code",
      "metadata": {
        "id": "DUv5AL-EnBNE"
      },
      "source": [
        "transform = transforms.Compose( [transforms.ToTensor(), transforms.Normalize((0.5, 0.5, 0.5), (0.5, 0.5, 0.5))])"
      ],
      "execution_count": 4,
      "outputs": []
    },
    {
      "cell_type": "code",
      "metadata": {
        "colab": {
          "base_uri": "https://localhost:8080/",
          "height": 117,
          "referenced_widgets": [
            "d0b8fe827a4f4da5ada0d0cc996442e1",
            "96bcaa238019462991c0ea3fbf8eda5e",
            "aa47965e3c774f81834e6644c05c8693",
            "312366057d5349da881a41af95a29dec",
            "1ee6b8133d0c46c19a196953511b98da",
            "74412e78075d4a4e991f7d2d63089c86",
            "4ab14fae9dcd47b688b5c9ad96e1e3ab",
            "647c8899868e434cb8336e1ec84a3cf8"
          ]
        },
        "id": "Ej6WosTEnJWT",
        "outputId": "ad46bb18-2748-4820-eef0-b105465eb5dd"
      },
      "source": [
        "# 学習データ\n",
        "train_data_with_teacher_labels = torchvision.datasets.CIFAR10(root='./data', train=True,download=True, transform=transform)\n",
        "train_data_loader = torch.utils.data.DataLoader(train_data_with_teacher_labels, batch_size=4,shuffle=True, num_workers=2)\n",
        "# 検証データ\n",
        "test_data_with_teacher_labels = torchvision.datasets.CIFAR10(root='./data', train=False, download=True, transform=transform)\n",
        "test_data_loader = torch.utils.data.DataLoader(test_data_with_teacher_labels, batch_size=4,shuffle=False, num_workers=2)"
      ],
      "execution_count": 5,
      "outputs": [
        {
          "output_type": "stream",
          "text": [
            "Downloading https://www.cs.toronto.edu/~kriz/cifar-10-python.tar.gz to ./data/cifar-10-python.tar.gz\n"
          ],
          "name": "stdout"
        },
        {
          "output_type": "display_data",
          "data": {
            "application/vnd.jupyter.widget-view+json": {
              "model_id": "d0b8fe827a4f4da5ada0d0cc996442e1",
              "version_minor": 0,
              "version_major": 2
            },
            "text/plain": [
              "HBox(children=(FloatProgress(value=0.0, max=170498071.0), HTML(value='')))"
            ]
          },
          "metadata": {
            "tags": []
          }
        },
        {
          "output_type": "stream",
          "text": [
            "\n",
            "Extracting ./data/cifar-10-python.tar.gz to ./data\n",
            "Files already downloaded and verified\n"
          ],
          "name": "stdout"
        }
      ]
    },
    {
      "cell_type": "code",
      "metadata": {
        "id": "gNNWfabunN6w"
      },
      "source": [
        "class_names = ('plane', 'car', 'bird', 'cat','deer', 'dog', 'frog', 'horse', 'ship', 'truck')"
      ],
      "execution_count": 6,
      "outputs": []
    },
    {
      "cell_type": "code",
      "metadata": {
        "id": "FF3xvGTTnTQd"
      },
      "source": [
        "import matplotlib.pyplot as plt\n",
        "import numpy as np"
      ],
      "execution_count": 7,
      "outputs": []
    },
    {
      "cell_type": "code",
      "metadata": {
        "id": "nznJZW1bnaP8"
      },
      "source": [
        "def show_image(img):\n",
        "    img = img / 2 + 0.5\n",
        "    npimg = img.numpy()\n",
        "    plt.imshow(np.transpose(npimg, (1, 2, 0)))\n",
        "    plt.show()"
      ],
      "execution_count": 8,
      "outputs": []
    },
    {
      "cell_type": "code",
      "metadata": {
        "colab": {
          "base_uri": "https://localhost:8080/",
          "height": 155
        },
        "id": "I7rZe32inxhD",
        "outputId": "53445b51-d218-4a05-9396-1ccc443eb7e8"
      },
      "source": [
        "# 学習データからちょっとデータを取ってきます\n",
        "data_iterator = iter(train_data_loader)\n",
        "images, labels = data_iterator.next()\n",
        "\n",
        "# 画像を表示します\n",
        "show_image(torchvision.utils.make_grid(images))\n",
        "# ラベルを表示します\n",
        "print(' '.join('%5s' % class_names[labels[j]] for j in range(4)))"
      ],
      "execution_count": 9,
      "outputs": [
        {
          "output_type": "display_data",
          "data": {
            "image/png": "[encoded data removed]",
            "text/plain": [
              "<Figure size 432x288 with 1 Axes>"
            ]
          },
          "metadata": {
            "tags": [],
            "needs_background": "light"
          }
        },
        {
          "output_type": "stream",
          "text": [
            "horse  ship horse  deer\n"
          ],
          "name": "stdout"
        }
      ]
    },
    {
      "cell_type": "code",
      "metadata": {
        "id": "_qcl1OohoUzK"
      },
      "source": [
        "import torch.nn as nn\n",
        "import torch.nn.functional as F\n",
        "\n",
        "class CNN(nn.Module):\n",
        "    def __init__(self):\n",
        "        super(CNN, self).__init__()\n",
        "        self.conv1 = nn.Conv2d(3, 6, 5)\n",
        "        self.pool = nn.MaxPool2d(2, 2)\n",
        "        self.conv2 = nn.Conv2d(6, 16, 5)\n",
        "        self.layer1 = nn.Linear(16 * 5 * 5, 120)\n",
        "        self.layer2 = nn.Linear(120, 84)\n",
        "        self.layer3 = nn.Linear(84, 10)\n",
        "\n",
        "    def forward(self, input_data):\n",
        "        input_data = self.pool(F.relu(self.conv1(input_data)))\n",
        "        input_data = self.pool(F.relu(self.conv2(input_data)))\n",
        "        input_data = input_data.view(-1, 16 * 5 * 5)\n",
        "        input_data = F.relu(self.layer1(input_data))\n",
        "        input_data = F.relu(self.layer2(input_data))\n",
        "        input_data = self.layer3(input_data)\n",
        "        return input_data\n",
        "\n",
        "model = CNN()"
      ],
      "execution_count": 10,
      "outputs": []
    },
    {
      "cell_type": "code",
      "metadata": {
        "id": "yXOrdy2WsSOV"
      },
      "source": [
        "import torch.optim as optimizer\n",
        "\n",
        "criterion = nn.CrossEntropyLoss()\n",
        "optimizer = optimizer.SGD(model.parameters(), lr=0.001, momentum=0.9)"
      ],
      "execution_count": 11,
      "outputs": []
    },
    {
      "cell_type": "code",
      "metadata": {
        "colab": {
          "base_uri": "https://localhost:8080/"
        },
        "id": "Uk0k3O4_smaS",
        "outputId": "6d1fc1df-ff3c-4f0e-8628-40f44175816b"
      },
      "source": [
        "# 最大学習回数\n",
        "MAX_EPOCH = 3\n",
        "\n",
        "#\n",
        "for epoch in range(MAX_EPOCH):\n",
        "\n",
        "    total_loss = 0.0\n",
        "    for i, data in enumerate(train_data_loader, 0):\n",
        "        # dataから学習対象データと教師ラベルデータを取り出します\n",
        "        train_data, teacher_labels = data\n",
        "\n",
        "        # 計算された勾配情報を削除します\n",
        "        optimizer.zero_grad()\n",
        "\n",
        "        # モデルでの予測を計算します\n",
        "        outputs = model(train_data)\n",
        "\n",
        "        # lossとwによる微分計算します\n",
        "        loss = criterion(outputs, teacher_labels)\n",
        "        loss.backward()\n",
        "\n",
        "        # 勾配を更新します\n",
        "        optimizer.step()\n",
        "        \n",
        "        # 誤差を累計します\n",
        "        total_loss += loss.item()\n",
        "\n",
        "        # 2000ミニバッチずつ、進捗を表示します\n",
        "        if i % 2000 == 1999:\n",
        "            print('学習進捗: [%d, %5d] loss: %.3f' % (epoch + 1, i + 1, total_loss / 2000))\n",
        "            total_loss = 0.0\n",
        "\n",
        "print('学習完了')"
      ],
      "execution_count": 12,
      "outputs": [
        {
          "output_type": "stream",
          "text": [
            "学習進捗: [1,  2000] loss: 2.221\n",
            "学習進捗: [1,  4000] loss: 1.840\n",
            "学習進捗: [1,  6000] loss: 1.689\n",
            "学習進捗: [1,  8000] loss: 1.615\n",
            "学習進捗: [1, 10000] loss: 1.547\n",
            "学習進捗: [1, 12000] loss: 1.503\n",
            "学習進捗: [2,  2000] loss: 1.439\n",
            "学習進捗: [2,  4000] loss: 1.377\n",
            "学習進捗: [2,  6000] loss: 1.355\n",
            "学習進捗: [2,  8000] loss: 1.356\n",
            "学習進捗: [2, 10000] loss: 1.325\n",
            "学習進捗: [2, 12000] loss: 1.305\n",
            "学習進捗: [3,  2000] loss: 1.229\n",
            "学習進捗: [3,  4000] loss: 1.221\n",
            "学習進捗: [3,  6000] loss: 1.210\n",
            "学習進捗: [3,  8000] loss: 1.236\n",
            "学習進捗: [3, 10000] loss: 1.210\n",
            "学習進捗: [3, 12000] loss: 1.191\n",
            "学習完了\n"
          ],
          "name": "stdout"
        }
      ]
    },
    {
      "cell_type": "code",
      "metadata": {
        "colab": {
          "base_uri": "https://localhost:8080/",
          "height": 155
        },
        "id": "jDGjtiTuwP43",
        "outputId": "65778529-397f-4ad0-9b6a-20077a63b686"
      },
      "source": [
        "data_iterator = iter(test_data_loader)\n",
        "images, labels = data_iterator.next()\n",
        "\n",
        "# 画像を表示します\n",
        "show_image(torchvision.utils.make_grid(images))\n",
        "print('正解教師ラベル: ', ' '.join('%5s' % class_names[labels[j]] for j in range(4)))"
      ],
      "execution_count": 13,
      "outputs": [
        {
          "output_type": "display_data",
          "data": {
            "image/png": "[encoded data removed]",
            "text/plain": [
              "<Figure size 432x288 with 1 Axes>"
            ]
          },
          "metadata": {
            "tags": [],
            "needs_background": "light"
          }
        },
        {
          "output_type": "stream",
          "text": [
            "正解教師ラベル:    cat  ship  ship plane\n"
          ],
          "name": "stdout"
        }
      ]
    },
    {
      "cell_type": "code",
      "metadata": {
        "colab": {
          "base_uri": "https://localhost:8080/"
        },
        "id": "eEkomUThxcDm",
        "outputId": "75371511-ddaf-4b77-9003-641114759fec"
      },
      "source": [
        "outputs = model(images)\n",
        "\n",
        "_, predicted = torch.max(outputs, 1)\n",
        "\n",
        "print('予測: ', ' '.join('%5s' % class_names[predicted[j]] for j in range(4)))"
      ],
      "execution_count": 14,
      "outputs": [
        {
          "output_type": "stream",
          "text": [
            "予測:    dog   car   car  ship\n"
          ],
          "name": "stdout"
        }
      ]
    },
    {
      "cell_type": "code",
      "metadata": {
        "colab": {
          "base_uri": "https://localhost:8080/"
        },
        "id": "Rmsrz5uyxzN8",
        "outputId": "a2ee6bb7-9414-4d21-b2f3-d46f603ad57d"
      },
      "source": [
        "count_when_correct = 0\n",
        "total = 0\n",
        "with torch.no_grad():\n",
        "    for data in test_data_loader:\n",
        "        test_data, teacher_labels = data\n",
        "        results = model(test_data)\n",
        "        _, predicted = torch.max(results.data, 1)\n",
        "        total += teacher_labels.size(0)\n",
        "        count_when_correct += (predicted == teacher_labels).sum().item()\n",
        "\n",
        "print('10000 検証画像に対しての正解率: %d %%' % (100 * count_when_correct / total))"
      ],
      "execution_count": 15,
      "outputs": [
        {
          "output_type": "stream",
          "text": [
            "10000 検証画像に対しての正解率: 57 %\n"
          ],
          "name": "stdout"
        }
      ]
    },
    {
      "cell_type": "code",
      "metadata": {
        "colab": {
          "base_uri": "https://localhost:8080/"
        },
        "id": "DEiEY5YyynZo",
        "outputId": "7cddbb6b-27f6-477f-8791-391e0fd0d26c"
      },
      "source": [
        "class_correct = list(0. for i in range(10))\n",
        "class_total = list(0. for i in range(10))\n",
        "#\n",
        "with torch.no_grad():\n",
        "    for data in test_data_loader:\n",
        "        #\n",
        "        test_data, teacher_labels = data\n",
        "        #\n",
        "        results = model(test_data)\n",
        "        #\n",
        "        _, predicted = torch.max(results, 1)\n",
        "        #\n",
        "        c = (predicted == teacher_labels).squeeze()\n",
        "        #\n",
        "        for i in range(4):\n",
        "            label = teacher_labels[i]\n",
        "            #\n",
        "            class_correct[label] += c[i].item()\n",
        "            class_total[label] += 1\n",
        "\n",
        "for i in range(10):\n",
        "    print(' %5s クラスの正解率は: %2d %%' % (class_names[i], 100 * class_correct[i] / class_total[i]))"
      ],
      "execution_count": 16,
      "outputs": [
        {
          "output_type": "stream",
          "text": [
            " plane クラスの正解率は: 45 %\n",
            "   car クラスの正解率は: 77 %\n",
            "  bird クラスの正解率は: 37 %\n",
            "   cat クラスの正解率は: 26 %\n",
            "  deer クラスの正解率は: 53 %\n",
            "   dog クラスの正解率は: 61 %\n",
            "  frog クラスの正解率は: 61 %\n",
            " horse クラスの正解率は: 68 %\n",
            "  ship クラスの正解率は: 71 %\n",
            " truck クラスの正解率は: 71 %\n"
          ],
          "name": "stdout"
        }
      ]
    },
    {
      "cell_type": "code",
      "metadata": {
        "id": "oIn03KV31UDf"
      },
      "source": [
        ""
      ],
      "execution_count": null,
      "outputs": []
    }
  ]
}